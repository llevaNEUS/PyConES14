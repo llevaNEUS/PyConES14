{
 "metadata": {
  "celltoolbar": "Slideshow",
  "name": "",
  "signature": "sha256:add5f25a9a06a993be3f617a5171a5f557b594b48fde1bec6ef0722b2ba1290b"
 },
 "nbformat": 3,
 "nbformat_minor": 0,
 "worksheets": [
  {
   "cells": [
    {
     "cell_type": "markdown",
     "metadata": {
      "slideshow": {
       "slide_type": "slide"
      }
     },
     "source": [
      "___\n",
      "<BR>\n",
      "<center>\n",
      "<h2>C\u00f3mo compartir tus IPython Notebooks con el mundo?</h2>\n",
      "<h4>Hacerlos m\u00e1s visibles,atractivos y \u00fatiles m\u00e1s all\u00e1 del localhost</h4>\n",
      "<BR>\n",
      "<p><img style=\"float:center\" src=\"http://ipython.org/_static/IPy_header.png\" width=\"400\" height=\"225\"></p>\n",
      "</center>\n",
      "<BR>\n",
      "\n",
      "<p style=\"text-align:right\"><b>N\u00faria Pujol Vilanova @llevaNEUS</b><BR>\n",
      "nuriapujolvilanova@gmail.com<BR>\n",
      "npujol@utm.csic.es</p><BR> \n",
      "\n",
      "<!--\n",
      "<a href=\"http://ow.ly/i/7qKyP\" target=\"_blank\"><img src=\"http://static.ow.ly/photos/normal/7qKyP.jpg\" alt=\"Owly Images\" width=\"300\"/></a>\n",
      "-->\n",
      "\n",
      "\n",
      "___"
     ]
    },
    {
     "cell_type": "markdown",
     "metadata": {
      "slideshow": {
       "slide_type": "slide"
      }
     },
     "source": [
      "<center>\n",
      "<h2>Un poco sobre mi (prometo ser breve)</h2> \n",
      "___\n",
      "<BR>\n",
      "    \n",
      "###N\u00daRIA PUJOL VILANOVA  \n",
      "\n",
      "####Departamento de Plataformas Aut\u00f3nomas   \n",
      "Centro Mediterr\u00e1neo de Investigaciones Marinas y Ambientales del CSIC (Barcelona)  \n",
      "(posar alguna foto)\n",
      "___\n",
      "</center>"
     ]
    },
    {
     "cell_type": "markdown",
     "metadata": {
      "slideshow": {
       "slide_type": "subslide"
      }
     },
     "source": [
      "<center>\n",
      "<a href=\"http://ow.ly/i/7qKyP\" target=\"_blank\"><img src=\"http://static.ow.ly/photos/normal/7qKyP.jpg\" alt=\"Owly Images\" width=\"300\"/></a>\n",
      "<BR>\n",
      "\n",
      "* Defensora de Python desde que lo descubr\u00ed (> 5 a\u00f1os)  \n",
      "* Apasionada de la electr\u00f3nica y del \"cacharreo\"  \n",
      "\n",
      "(posar foto del meu bolso)\n",
      "___\n",
      "</center>"
     ]
    },
    {
     "cell_type": "raw",
     "metadata": {
      "slideshow": {
       "slide_type": "skip"
      }
     },
     "source": [
      "Per installar una copia de Mathjax de forma local\n",
      "\n",
      "from IPython.external import mathjax; mathjax.install_mathjax()\n",
      "\n"
     ]
    },
    {
     "cell_type": "markdown",
     "metadata": {
      "slideshow": {
       "slide_type": "slide"
      }
     },
     "source": [
      "<h2 align=\"center\">IPhthon Notebook</h2>\n",
      "___\n",
      "<p align=\"center\"><img src=\"images/notebook_aparence.png\" width=\"900\" height=\"225\" align=\"middle\" /></p>\n",
      "___"
     ]
    },
    {
     "cell_type": "markdown",
     "metadata": {
      "slideshow": {
       "slide_type": "subslide"
      }
     },
     "source": [
      "<center>\n",
      "<h2> Entonces...<BR><BR>IPYTHON NOTEBOOK ES UN ENTORNO WEB PARA SER EJECUTADO EN LOCAL??</h2>\n",
      "<BR>\n",
      "<BR>\n",
      "<!--<p href=\"http://s113.photobucket.com/user/sadcaccabear/media/wtf.jpg.html\" target=\"_blank\"><img  src=\"http://i113.photobucket.com/albums/n222/sadcaccabear/wtf.jpg\" border=\"0\" alt=\" photo wtf.jpg\"width=\"300\" height=\"225\"/></p>\n",
      "</center>-->\n",
      "</center>"
     ]
    },
    {
     "cell_type": "markdown",
     "metadata": {
      "slideshow": {
       "slide_type": "fragment"
      }
     },
     "source": [
      "<center>\n",
      "#Se trata de ficheros JSON con extensi\u00f3n .ipynb \n",
      "\n",
      "* Permite la f\u00e1cil conversi\u00f3n a otros formatos\n",
      "* Dise\u00f1ado con la finalidad de ser **COMPARTIDO**\n",
      "</center>\n",
      "<!--<center>\n",
      "<p><img src=\"images/JSON.png\" width=\"500\" height=\"225\" align=\"middle\" /></p>\n",
      "</center>\n",
      "-->"
     ]
    },
    {
     "cell_type": "markdown",
     "metadata": {
      "slideshow": {
       "slide_type": "slide"
      }
     },
     "source": [
      "<center>\n",
      "#Canvios de formato  \n",
      "####HTML, PDF (Latex), PyThon  \n",
      "**ipython nbconvert --to FORMAT notebook.ipynb**\n",
      "</center>"
     ]
    },
    {
     "cell_type": "markdown",
     "metadata": {
      "slideshow": {
       "slide_type": "fragment"
      }
     },
     "source": [
      "!ipython nbconvert --to slides Presentacion_pycones14_NPV.ipynb"
     ]
    },
    {
     "cell_type": "markdown",
     "metadata": {
      "slideshow": {
       "slide_type": "fragment"
      }
     },
     "source": [
      "* [Presentaci\u00f3n 1](/Presentacion_pycones14_NPV.slides.html?theme=sky)\n",
      "* [Presentaci\u00f3n 2](/Presentacion_pycones14_NPV.slides.html?transition=cube)"
     ]
    },
    {
     "cell_type": "code",
     "collapsed": false,
     "input": [
      "!ipython nbconvert --to slides Presentacion_pycones14_NPV.ipynb --post serve"
     ],
     "language": "python",
     "metadata": {
      "slideshow": {
       "slide_type": "skip"
      }
     },
     "outputs": [
      {
       "output_type": "stream",
       "stream": "stdout",
       "text": [
        "[NbConvertApp] Using existing profile dir: u'/home/nuria/.ipython/profile_default'\r\n",
        "[NbConvertApp] Converting notebook Presentacion_pycones14_NPV.ipynb to slides\r\n",
        "[NbConvertApp] Support files will be in Presentacion_pycones14_NPV_files/\r\n"
       ]
      },
      {
       "output_type": "stream",
       "stream": "stdout",
       "text": [
        "[NbConvertApp] Loaded template slides_reveal.tpl\r\n"
       ]
      },
      {
       "output_type": "stream",
       "stream": "stdout",
       "text": [
        "/usr/local/lib/python2.7/dist-packages/IPython/nbconvert/filters/markdown.py:78: UserWarning: Node.js 0.9.12 or later wasn't found.\r\n",
        "Nbconvert will try to use Pandoc instead.\r\n",
        "  \"Nbconvert will try to use Pandoc instead.\")\r\n",
        "/usr/local/lib/python2.7/dist-packages/IPython/nbconvert/utils/pandoc.py:63: RuntimeWarning: You are using an old version of pandoc (1.9.1)\r\n",
        "Recommended version is 1.12.1.\r\n",
        "Try updating.http://johnmacfarlane.net/pandoc/installing.html.\r\n",
        "Continuing with doubts...\r\n",
        "  check_pandoc_version()\r\n"
       ]
      },
      {
       "output_type": "stream",
       "stream": "stdout",
       "text": [
        "[NbConvertApp] Writing 201782 bytes to Presentacion_pycones14_NPV.slides.html\r\n",
        "[NbConvertApp] Redirecting reveal.js requests to https://cdn.jsdelivr.net/reveal.js/2.5.0\r\n",
        "Serving your slides at http://127.0.0.1:8000/Presentacion_pycones14_NPV.slides.html\r\n",
        "Use Control-C to stop this server\r\n"
       ]
      },
      {
       "output_type": "stream",
       "stream": "stdout",
       "text": [
        "WARNING:tornado.access:404 GET /custom.css (127.0.0.1) 0.82ms\r\n"
       ]
      },
      {
       "output_type": "stream",
       "stream": "stdout",
       "text": [
        "WARNING:tornado.access:404 GET /custom.css (127.0.0.1) 0.83ms\r\n"
       ]
      }
     ]
    },
    {
     "cell_type": "code",
     "collapsed": false,
     "input": [
      "Realmente IPython Notebook ha sido pensado para ser compartido!!\n",
      "Empezemos por los ejemplos mas senzillos.\n",
      "    \n",
      "El formato .ipynb basado en JSON, permite su conversion a otros formatos a trav\u00e9s de nbconverter\n",
      "\n",
      "nbviewer\n",
      "slideviewer\n",
      "\n",
      "empotrar pagines web aix\u00ed:\n",
      "    from IPython.display import HTML\n",
      "HTML('<iframe src=\"http://www.damian.oquanta.info\" width=500 height=600></iframe>')\n",
      "\n",
      "Comentar c\u00f3mo compartir nuestros ipython notebook:\n",
      "    \n",
      "    Sagemath cloud\n",
      "    Wakari\n"
     ],
     "language": "python",
     "metadata": {
      "slideshow": {
       "slide_type": "skip"
      }
     },
     "outputs": [
      {
       "ename": "SyntaxError",
       "evalue": "invalid syntax (<ipython-input-3-37a79d6a6048>, line 1)",
       "output_type": "pyerr",
       "traceback": [
        "\u001b[1;36m  File \u001b[1;32m\"<ipython-input-3-37a79d6a6048>\"\u001b[1;36m, line \u001b[1;32m1\u001b[0m\n\u001b[1;33m    Realmente IPython Notebook ha sido pensado para ser compartido!!\u001b[0m\n\u001b[1;37m                    ^\u001b[0m\n\u001b[1;31mSyntaxError\u001b[0m\u001b[1;31m:\u001b[0m invalid syntax\n"
       ]
      }
     ],
     "prompt_number": 3
    },
    {
     "cell_type": "markdown",
     "metadata": {
      "slideshow": {
       "slide_type": "skip"
      }
     },
     "source": [
      "Porqu\u00e9 esta presentaci\u00f3n podria haber sido as\u00ed muchas otras maneras:\n",
      "\n",
      "* [Manera 1](/Presentacion_pycones14_NPV.slides.html?theme=sky)  \n",
      "* [Manera 2](/Presentacion_pycones14_NPV.slides.html?transition=cube)  \n",
      "* ...\n",
      "\n",
      "HTML, CSS, LATEX, MATHJAX...\n",
      "\n",
      "LAS POSIBILIDADES SON INFINITAS!"
     ]
    },
    {
     "cell_type": "code",
     "collapsed": false,
     "input": [
      "#http://nbviewer.ipython.org/github/jrjohansson/scientific-python-lectures/blob/master/Lecture-7-Revision-Control-Software.ipynb\n",
      "#ha creat un repositori de git ak\u00ed -> Initialized empty Git repository in /home/nuria/Notebooks/PYCONES14/pycones14/.git/\n",
      "!git init pycones14"
     ],
     "language": "python",
     "metadata": {
      "slideshow": {
       "slide_type": "skip"
      }
     },
     "outputs": [
      {
       "output_type": "stream",
       "stream": "stdout",
       "text": [
        "Initialized empty Git repository in /home/nuria/Notebooks/PYCONES14/pycones14/.git/\r\n"
       ]
      }
     ],
     "prompt_number": 8
    },
    {
     "cell_type": "code",
     "collapsed": false,
     "input": [],
     "language": "python",
     "metadata": {
      "slideshow": {
       "slide_type": "skip"
      }
     },
     "outputs": []
    },
    {
     "cell_type": "markdown",
     "metadata": {
      "slideshow": {
       "slide_type": "skip"
      }
     },
     "source": [
      "Pluguin para slides obtener slides:\n",
      "ejecutar el notebook install_support.ipynb\n",
      "GitHub: https://github.com/fperez/nb-slideshow-template\n"
     ]
    },
    {
     "cell_type": "markdown",
     "metadata": {
      "slideshow": {
       "slide_type": "skip"
      }
     },
     "source": [
      "Teniendo en cuenta que nos permite introducir...\n",
      "* F\u00f3rmulas matem\u00e1ticas (MathJax)\n",
      "* \n",
      "\n",
      "#LAS POSIBILIDADES SON INFINITAS"
     ]
    },
    {
     "cell_type": "raw",
     "metadata": {
      "slideshow": {
       "slide_type": "skip"
      }
     },
     "source": [
      "http://ipython.org/ipython-doc/1/interactive/nbconvert.html -> convertir en otros formatos\n",
      "\n",
      "    "
     ]
    },
    {
     "cell_type": "markdown",
     "metadata": {
      "slideshow": {
       "slide_type": "skip"
      }
     },
     "source": [
      "***\n",
      "Transformar en presentacion\n",
      "\n",
      "Hem hagut d'instal\u00b7lar: \"apt-get install libghc-pandoc-dev\"\n",
      "Conversi\u00f3 a trav\u00e9s de Pandoc a tot els formats: http://johnmacfarlane.net/pandoc/installing.html\n",
      "Tamb\u00e9 hem instal\u00b7lat latex per altres transformacions: apt-get install texlive\n",
      "Al final hem instalat pandoc a trav\u00e9s del gentre de programari d'ubuntu : Pandoc (General markup converter)\n",
      "\n",
      "Pandoc understands a number of useful markdown syntax extensions, including document metadata (title, author, date); footnotes; tables; definition lists; superscript and subscript; strikeout; enhanced ordered lists (start number and numbering style are significant); running example lists; delimited code blocks with syntax highlighting; smart quotes, dashes, and ellipses; markdown inside HTML blocks; and inline LaTeX. If strict markdown compatibility is desired, all of these extensions can be turned off.\n",
      "\n",
      "***"
     ]
    },
    {
     "cell_type": "code",
     "collapsed": false,
     "input": [
      "!ipython nbconvert --to slides Presentacion_pycones14_NPV.ipynb --post serve\n",
      "#!ipython nbconvert --to slides Presentacion_pycones14_NPV.ipynb"
     ],
     "language": "python",
     "metadata": {
      "slideshow": {
       "slide_type": "skip"
      }
     },
     "outputs": [
      {
       "output_type": "stream",
       "stream": "stdout",
       "text": [
        "[NbConvertApp] Using existing profile dir: u'/home/nuria/.ipython/profile_default'\r\n"
       ]
      },
      {
       "output_type": "stream",
       "stream": "stdout",
       "text": [
        "[NbConvertApp] Converting notebook Presentacion_pycones14_NPV.ipynb to slides\r\n",
        "[NbConvertApp] Support files will be in Presentacion_pycones14_NPV_files/\r\n"
       ]
      },
      {
       "output_type": "stream",
       "stream": "stdout",
       "text": [
        "[NbConvertApp] Loaded template slides_reveal.tpl\r\n"
       ]
      },
      {
       "output_type": "stream",
       "stream": "stdout",
       "text": [
        "/usr/local/lib/python2.7/dist-packages/IPython/nbconvert/filters/markdown.py:78: UserWarning: Node.js 0.9.12 or later wasn't found.\r\n",
        "Nbconvert will try to use Pandoc instead.\r\n",
        "  \"Nbconvert will try to use Pandoc instead.\")\r\n",
        "/usr/local/lib/python2.7/dist-packages/IPython/nbconvert/utils/pandoc.py:63: RuntimeWarning: You are using an old version of pandoc (1.9.1)\r\n",
        "Recommended version is 1.12.1.\r\n",
        "Try updating.http://johnmacfarlane.net/pandoc/installing.html.\r\n",
        "Continuing with doubts...\r\n",
        "  check_pandoc_version()\r\n"
       ]
      },
      {
       "output_type": "stream",
       "stream": "stdout",
       "text": [
        "[NbConvertApp] Writing 200122 bytes to Presentacion_pycones14_NPV.slides.html\r\n",
        "[NbConvertApp] Redirecting reveal.js requests to https://cdn.jsdelivr.net/reveal.js/2.5.0\r\n",
        "Serving your slides at http://127.0.0.1:8000/Presentacion_pycones14_NPV.slides.html\r\n",
        "Use Control-C to stop this server\r\n"
       ]
      },
      {
       "output_type": "stream",
       "stream": "stdout",
       "text": [
        "WARNING:tornado.access:404 GET /custom.css (127.0.0.1) 0.68ms\r\n"
       ]
      },
      {
       "output_type": "stream",
       "stream": "stdout",
       "text": [
        "WARNING:tornado.access:404 GET /custom.css (127.0.0.1) 0.51ms\r\n"
       ]
      },
      {
       "output_type": "stream",
       "stream": "stdout",
       "text": [
        "^C\r\n",
        "Interrupted\r\n",
        "\r\n"
       ]
      }
     ],
     "prompt_number": 12
    },
    {
     "cell_type": "code",
     "collapsed": false,
     "input": [],
     "language": "python",
     "metadata": {
      "slideshow": {
       "slide_type": "skip"
      }
     },
     "outputs": []
    }
   ],
   "metadata": {}
  }
 ]
}