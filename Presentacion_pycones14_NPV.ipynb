{
 "metadata": {
  "celltoolbar": "Slideshow",
  "name": "",
  "signature": "sha256:ec1305bf0c1543e7e2a12dfa117c6cb0340d658a22cd4a2d1b29c89848620fec"
 },
 "nbformat": 3,
 "nbformat_minor": 0,
 "worksheets": [
  {
   "cells": [
    {
     "cell_type": "markdown",
     "metadata": {
      "slideshow": {
       "slide_type": "slide"
      }
     },
     "source": [
      "<BR>\n",
      "<center>\n",
      "<h2>C\u00f3mo compartir tus IPython Notebooks con el mundo?</h2>\n",
      "<h4>Hacerlos m\u00e1s visibles y \u00fatiles m\u00e1s all\u00e1 del localhost</h4>\n",
      "<BR>\n",
      "<p><img style=\"float:center\" src=\"http://ipython.org/_static/IPy_header.png\" width=\"350\" height=\"225\"></p>\n",
      "<p><img style=\"float:center\" src=\"http://nbviewer.ipython.org/github/ellisonbg/talk-2014-summer/blob/master/images/jupyter_logo.png\" width=\"300\" height=\"225\"></p>\n",
      "</center>\n",
      "<BR>\n",
      "\n",
      "<p style=\"text-align:right\"><b>N\u00faria Pujol Vilanova @llevaNEUS</b><BR>\n",
      "nuriapujolvilanova@gmail.com<BR>\n",
      "npujol@utm.csic.es</p><BR> "
     ]
    },
    {
     "cell_type": "markdown",
     "metadata": {
      "slideshow": {
       "slide_type": "slide"
      }
     },
     "source": [
      "<center>\n",
      "<h2>Un poco sobre mi (prometo ser breve)</h2> \n",
      "<h3>N\u00daRIA PUJOL VILANOVA</h3> \n",
      "\n",
      "<ul><b>Departamento de Plataformas Aut\u00f3nomas</b>\n",
      "<BR>\n",
      "Centro Mediterr\u00e1neo de Investigaciones Marinas y Ambientales del CSIC (Barcelona)</ul>\n",
      "</center>"
     ]
    },
    {
     "cell_type": "markdown",
     "metadata": {
      "slideshow": {
       "slide_type": "fragment"
      }
     },
     "source": [
      "<center>\n",
      "<a href=\"http://ow.ly/i/7qKyP\" target=\"_blank\"><img src=\"http://static.ow.ly/photos/normal/7qKyP.jpg\" alt=\"Owly Images\" width=\"250\"/></a>\n",
      "<BR>\n",
      "<ul>\n",
      "<li>Usuaria y defensora de Python desde que lo descubr\u00ed (> 5 a\u00f1os)</li>\n",
      "<li>Apasionada de la electr\u00f3nica y del \"cacharreo\"</li>\n",
      "</ul>\n",
      "</center>"
     ]
    },
    {
     "cell_type": "raw",
     "metadata": {
      "slideshow": {
       "slide_type": "skip"
      }
     },
     "source": [
      "Per installar una copia de Mathjax de forma local\n",
      "\n",
      "from IPython.external import mathjax; mathjax.install_mathjax()\n",
      "\n"
     ]
    },
    {
     "cell_type": "markdown",
     "metadata": {
      "slideshow": {
       "slide_type": "slide"
      }
     },
     "source": [
      "<h2 align=\"center\">IPython Notebook</h2>\n",
      "<p align=\"center\"><img src=\"images/notebook_aparence.png\" width=\"900\" height=\"225\" align=\"middle\" /></p>"
     ]
    },
    {
     "cell_type": "markdown",
     "metadata": {
      "slideshow": {
       "slide_type": "subslide"
      }
     },
     "source": [
      "<center>\n",
      "<h2> Entonces...<BR><BR>IPYTHON NOTEBOOK ES UN ENTORNO WEB PARA SER EJECUTADO EN LOCAL??</h2>\n",
      "<BR>\n",
      "<BR>\n",
      "<!--<p href=\"http://s113.photobucket.com/user/sadcaccabear/media/wtf.jpg.html\" target=\"_blank\"><img  src=\"http://i113.photobucket.com/albums/n222/sadcaccabear/wtf.jpg\" border=\"0\" alt=\" photo wtf.jpg\"width=\"300\" height=\"225\"/></p>\n",
      "</center>-->\n",
      "</center>"
     ]
    },
    {
     "cell_type": "markdown",
     "metadata": {
      "slideshow": {
       "slide_type": "fragment"
      }
     },
     "source": [
      "<center>\n",
      "<h1>Ficheros JSON con extensi\u00f3n .ipynb</h1>\n",
      "<ul>\n",
      "<li>Permite la f\u00e1cil conversi\u00f3n a otros formatos</li>\n",
      "<li>Dise\u00f1ado con la finalidad de ser  COMPARTIDO</li>\n",
      "</ul>\n",
      "</center>\n",
      "\n",
      "<!--<center>\n",
      "<p><img src=\"images/JSON.png\" width=\"500\" height=\"225\" align=\"middle\" /></p>\n",
      "</center>\n",
      "-->"
     ]
    },
    {
     "cell_type": "markdown",
     "metadata": {
      "slideshow": {
       "slide_type": "slide"
      }
     },
     "source": [
      "<center>\n",
      "<h1>Canvios de formato</h1>\n",
      "<h4>HTML, PDF (Latex), Python...<h4>\n",
      "</center>"
     ]
    },
    {
     "cell_type": "code",
     "collapsed": false,
     "input": [
      "!ipython nbconvert --to slides Presentacion_pycones14_NPV.ipynb --post serve"
     ],
     "language": "python",
     "metadata": {
      "slideshow": {
       "slide_type": "fragment"
      }
     },
     "outputs": []
    },
    {
     "cell_type": "markdown",
     "metadata": {
      "slideshow": {
       "slide_type": "fragment"
      }
     },
     "source": [
      "<center>\n",
      "<p><img src=\"images/save_formats.png\" width=\"250\" height=\"225\"></p>\n",
      "</center>"
     ]
    },
    {
     "cell_type": "markdown",
     "metadata": {
      "slideshow": {
       "slide_type": "fragment"
      }
     },
     "source": [
      "<BR>\n",
      "<center>\n",
      "<h10>Adem\u00e1s de poder incrustar HTML, CSS, LATEX, Markdown, MATHJAX... </h10>\n",
      "\n",
      "<h3>LAS POSIBILIDADES SON INFINITAS!<h3>\n",
      "</center>"
     ]
    },
    {
     "cell_type": "markdown",
     "metadata": {
      "slideshow": {
       "slide_type": "slide"
      }
     },
     "source": [
      "<center>\n",
      "<h1>Visualizadores online (Notebook + GitHub)</h1><BR>\n",
      "<h3>Posibilidad de compartici\u00f3n immediata a trav\u00e9s de un link</h3>\n",
      "</center>"
     ]
    },
    {
     "cell_type": "markdown",
     "metadata": {
      "slideshow": {
       "slide_type": "fragment"
      }
     },
     "source": [
      "<center>\n",
      "<h3><a href=\"http://nbviewer.jupyter.org\">http://nbviewer.jupyter.org</a><a href=\"http://nbviewer.ipython.org/github/llevaNEUS/PyConES14/blob/master/examples/usage_example.ipynb\"> --> Ejemplo</a></h3>\n",
      "<h3><a href=\"http://slideviewer.herokuapp.com/\">http://slideviewer.herokuapp.com/</a><a href=\"http://slideviewer.herokuapp.com/github/llevaNEUS/PyConES14/blob/master/Presentacion_pycones14_NPV.ipynb\"> --> Ejemplo</a></h3>\n",
      "</center>"
     ]
    },
    {
     "cell_type": "markdown",
     "metadata": {
      "slideshow": {
       "slide_type": "fragment"
      }
     },
     "source": [
      "<center>\n",
      "<h3>PERO...</h3>\n",
      "</center>"
     ]
    },
    {
     "cell_type": "markdown",
     "metadata": {
      "slideshow": {
       "slide_type": "fragment"
      }
     },
     "source": [
      "<center>\n",
      "<h3> NOS MUESTRAS P\u00c1GINAS EST\u00c1TICAS</h3>\n",
      "<ul>\n",
      "<li> NO podemos hacer modificaciones</li>\n",
      "<li> NO podemos ejecutar el c\u00f3digo</li>\n",
      "</center>"
     ]
    },
    {
     "cell_type": "markdown",
     "metadata": {
      "slideshow": {
       "slide_type": "skip"
      }
     },
     "source": [
      "<center>\n",
      "<h2>IPython Notebooks (interactivos???) en red</h2>\n",
      "\n",
      "<h3><a href=\"https://tmpnb.org/\">https://tmpnb.org//</a></h3>\n",
      "</center>\n",
      "</center>"
     ]
    },
    {
     "cell_type": "markdown",
     "metadata": {
      "slideshow": {
       "slide_type": "skip"
      }
     },
     "source": [
      "<center>\n",
      "<h1>PERO...</h1>\n",
      "</center>"
     ]
    },
    {
     "cell_type": "markdown",
     "metadata": {
      "slideshow": {
       "slide_type": "skip"
      }
     },
     "source": [
      "<center>\n",
      "<a href=\"http://nbviewer.jupyter.org\">http://nbviewer.jupyter.org</a>\n",
      "<h4>https://tmpnb.org/user-JHuRl41tthgV/notebooks/Ploting_polar.ipynb</h4>\n",
      "</center>"
     ]
    },
    {
     "cell_type": "markdown",
     "metadata": {
      "slideshow": {
       "slide_type": "slide"
      }
     },
     "source": [
      "<center>\n",
      "<h2>Vayamos al truco final...</h2>\n",
      "</center>"
     ]
    },
    {
     "cell_type": "markdown",
     "metadata": {
      "slideshow": {
       "slide_type": "slide"
      }
     },
     "source": [
      "<center>\n",
      "<h2>IPython Notebooks colaborativos en red</h2>\n",
      "<BR>\n",
      "<h10>Existen diferentes iniciativas:</h10>\n",
      "</center>\n",
      "\n",
      "<ul>\n",
      "<li>Cloud SageMath</li>\n",
      "<li>coLaboratory</li>\n",
      "<li>Wakari (Continuum analytics)</li>\n",
      "<li>Otros</li>\n",
      "</ul>"
     ]
    },
    {
     "cell_type": "markdown",
     "metadata": {
      "slideshow": {
       "slide_type": "slide"
      }
     },
     "source": [
      "<center>\n",
      "<h2>Cloud SageMath</h2>\n",
      "<h4><a href=\"https://cloud.sagemath.com\">https://cloud.sagemath.com</a></h4>\n",
      "<h3>Crea una cuenta de usuario</h3>\n",
      "<p><img src=\"images/sagemath_signin.png\" width=\"600\" height=\"225\"></p>\n",
      "</center>"
     ]
    },
    {
     "cell_type": "markdown",
     "metadata": {
      "slideshow": {
       "slide_type": "subslide"
      }
     },
     "source": [
      "<center>\n",
      "<h3>Crea un Proyecto y los ficheros (o agregalos desde Git)</h3>\n",
      "<p><img src=\"images/sagemath_clone.png\" width=\"600\" height=\"225\"></p>\n",
      "</center>"
     ]
    },
    {
     "cell_type": "markdown",
     "metadata": {
      "slideshow": {
       "slide_type": "subslide"
      }
     },
     "source": [
      "<center>\n",
      "<h3>Abre un fichero y modificalo</h3>\n",
      "<p><img src=\"images/sagemath.png\" width=\"600\" height=\"225\"></p>\n",
      "</center>"
     ]
    },
    {
     "cell_type": "markdown",
     "metadata": {
      "slideshow": {
       "slide_type": "subslide"
      }
     },
     "source": [
      "<center>\n",
      "<h3>Agrega colaboradores, configura las claves SSH and push it!</h3>\n",
      "<p><img src=\"images/sagemath_settings.png\" width=\"600\" height=\"225\"></p>\n",
      "</center>"
     ]
    },
    {
     "cell_type": "markdown",
     "metadata": {
      "slideshow": {
       "slide_type": "slide"
      }
     },
     "source": [
      "<center>\n",
      "<h2>coLaboratory</h2>\n",
      "<h3>Instala el Plugin para Google Chrome</h3>\n",
      "\n",
      "<p><img src=\"images/colaboratory_chrome.png\" width=\"600\" height=\"225\"></p>\n",
      "\n",
      "</center>"
     ]
    },
    {
     "cell_type": "markdown",
     "metadata": {
      "slideshow": {
       "slide_type": "subslide"
      }
     },
     "source": [
      "<center>\n",
      "<h3>Instala CollaboratoryApp y arranca el servidor local</h3>\n",
      "\n",
      "<p><img src=\"images/colaboratory_arranca.png\" width=\"450\" height=\"225\"></p>\n",
      "<p><img src=\"images/ipython_notebook_drive3.png\" width=\"450\" height=\"225\"></p>\n",
      "\n",
      "<h4><a href=\"https://github.com/jupyter/colaboratory\">https://github.com/jupyter/colaboratory</a></h4>\n",
      "\n",
      "</center>"
     ]
    },
    {
     "cell_type": "markdown",
     "metadata": {
      "slideshow": {
       "slide_type": "subslide"
      }
     },
     "source": [
      "<center>\n",
      "<h3>Crea o abre un archivo .ipynb</h3>\n",
      "\n",
      "<p><img src=\"images/ipython_notebook_chrome4.png\" width=\"450\" height=\"225\"></p>\n",
      "<p><img src=\"images/ipython_notebook_drive.png\" width=\"450\" height=\"225\"></p>\n",
      "\n",
      "</center>"
     ]
    },
    {
     "cell_type": "markdown",
     "metadata": {
      "slideshow": {
       "slide_type": "slide"
      }
     },
     "source": [
      "<center>\n",
      "<h2>Wakari</h2>\n",
      "<h4><a href=\"https://wakari.io/\">https://wakari.io/</a></h4>\n",
      "<h3>Crear una cuenta y un proyecto</h3>\n",
      "<p><img src=\"images/wakari_signin.png\" width=\"300\" height=\"225\"></p>\n",
      "<p><img src=\"images/wakari_github_2.png\" width=\"450\" height=\"225\"></p>\n",
      "\n",
      "</center>"
     ]
    },
    {
     "cell_type": "markdown",
     "metadata": {
      "slideshow": {
       "slide_type": "subslide"
      }
     },
     "source": [
      "<center>\n",
      "<h3>Compartelo</h3>\n",
      "<p><img src=\"images/wakari_share.png\" width=\"400\" height=\"225\"></p>\n",
      "<p><img src=\"images/wakari_clone.png\" width=\"400\" height=\"225\"></p>\n",
      "<h4><a href=\"https://wakari.io/sharing/bundle/npujol/usage_example\">https://wakari.io/sharing/bundle/npujol/usage_example</a></h4>\n",
      "\n",
      "</center>"
     ]
    },
    {
     "cell_type": "markdown",
     "metadata": {
      "slideshow": {
       "slide_type": "subslide"
      }
     },
     "source": [
      "<center>\n",
      "<h3>Tambi\u00e9n podemos utilizar Git/GitHub</h3>\n",
      "<p><img src=\"images/wakari_shell.png\" width=\"450\" height=\"225\"></p>\n",
      "<p><img src=\"images/wakari_git.png\" width=\"450\" height=\"225\"></p>\n",
      "\n",
      "<h3>Generar claves SSH</h3>\n",
      "<h4><a href=\"https://help.github.com/articles/generating-ssh-keys/\">https://help.github.com/articles/generating-ssh-keys/</a></h4>\n",
      "\n",
      "</center>"
     ]
    },
    {
     "cell_type": "markdown",
     "metadata": {
      "slideshow": {
       "slide_type": "slide"
      }
     },
     "source": [
      "<center>\n",
      "<h1>Tiempo estimado</h1>\n",
      "<h1> &lt;5 min.</h1>\n",
      "</center>"
     ]
    },
    {
     "cell_type": "markdown",
     "metadata": {
      "slideshow": {
       "slide_type": "slide"
      }
     },
     "source": [
      "<center>\n",
      "<h3>Existen much\u00edssimas formas de compartir nuestros Notebooks s\u00f3lo debemos encontrar la que m\u00e1s se ajuste a nuestras necesidades</h3>\n",
      "<h2>Alguna vez, alguna te sacar\u00e1 de algun apuro</h2>\n",
      "</center>"
     ]
    },
    {
     "cell_type": "code",
     "collapsed": false,
     "input": [
      "Realmente IPython Notebook ha sido pensado para ser compartido!!\n",
      "Empezemos por los ejemplos mas senzillos.\n",
      "    \n",
      "El formato .ipynb basado en JSON, permite su conversion a otros formatos a trav\u00e9s de nbconverter\n",
      "\n",
      "nbviewer\n",
      "slideviewer\n",
      "\n",
      "empotrar pagines web aix\u00ed:\n",
      "    from IPython.display import HTML\n",
      "HTML('<iframe src=\"http://www.damian.oquanta.info\" width=500 height=600></iframe>')\n",
      "\n",
      "Comentar c\u00f3mo compartir nuestros ipython notebook:\n",
      "    \n",
      "    Sagemath cloud\n",
      "    Wakari\n"
     ],
     "language": "python",
     "metadata": {
      "slideshow": {
       "slide_type": "skip"
      }
     },
     "outputs": [
      {
       "ename": "SyntaxError",
       "evalue": "invalid syntax (<ipython-input-3-37a79d6a6048>, line 1)",
       "output_type": "pyerr",
       "traceback": [
        "\u001b[1;36m  File \u001b[1;32m\"<ipython-input-3-37a79d6a6048>\"\u001b[1;36m, line \u001b[1;32m1\u001b[0m\n\u001b[1;33m    Realmente IPython Notebook ha sido pensado para ser compartido!!\u001b[0m\n\u001b[1;37m                    ^\u001b[0m\n\u001b[1;31mSyntaxError\u001b[0m\u001b[1;31m:\u001b[0m invalid syntax\n"
       ]
      }
     ],
     "prompt_number": 3
    },
    {
     "cell_type": "markdown",
     "metadata": {
      "slideshow": {
       "slide_type": "skip"
      }
     },
     "source": [
      "Porqu\u00e9 esta presentaci\u00f3n podria haber sido as\u00ed muchas otras maneras:\n",
      "\n",
      "* [Manera 1](/Presentacion_pycones14_NPV.slides.html?theme=sky)  \n",
      "* [Manera 2](/Presentacion_pycones14_NPV.slides.html?transition=cube)  \n",
      "* ...\n",
      "\n",
      "HTML, CSS, LATEX, MATHJAX...\n",
      "\n",
      "LAS POSIBILIDADES SON INFINITAS!"
     ]
    },
    {
     "cell_type": "code",
     "collapsed": false,
     "input": [
      "#http://nbviewer.ipython.org/github/jrjohansson/scientific-python-lectures/blob/master/Lecture-7-Revision-Control-Software.ipynb\n",
      "#ha creat un repositori de git ak\u00ed -> Initialized empty Git repository in /home/nuria/Notebooks/PYCONES14/pycones14/.git/\n",
      "!git init pycones14"
     ],
     "language": "python",
     "metadata": {
      "slideshow": {
       "slide_type": "skip"
      }
     },
     "outputs": [
      {
       "output_type": "stream",
       "stream": "stdout",
       "text": [
        "Initialized empty Git repository in /home/nuria/Notebooks/PYCONES14/pycones14/.git/\r\n"
       ]
      }
     ],
     "prompt_number": 8
    },
    {
     "cell_type": "code",
     "collapsed": false,
     "input": [],
     "language": "python",
     "metadata": {
      "slideshow": {
       "slide_type": "skip"
      }
     },
     "outputs": []
    },
    {
     "cell_type": "markdown",
     "metadata": {
      "slideshow": {
       "slide_type": "skip"
      }
     },
     "source": [
      "Pluguin para slides obtener slides:\n",
      "ejecutar el notebook install_support.ipynb\n",
      "GitHub: https://github.com/fperez/nb-slideshow-template\n"
     ]
    },
    {
     "cell_type": "markdown",
     "metadata": {
      "slideshow": {
       "slide_type": "skip"
      }
     },
     "source": [
      "Teniendo en cuenta que nos permite introducir...\n",
      "* F\u00f3rmulas matem\u00e1ticas (MathJax)\n",
      "* \n",
      "\n",
      "#LAS POSIBILIDADES SON INFINITAS"
     ]
    },
    {
     "cell_type": "raw",
     "metadata": {
      "slideshow": {
       "slide_type": "skip"
      }
     },
     "source": [
      "http://ipython.org/ipython-doc/1/interactive/nbconvert.html -> convertir en otros formatos\n",
      "\n",
      "    "
     ]
    },
    {
     "cell_type": "markdown",
     "metadata": {
      "slideshow": {
       "slide_type": "skip"
      }
     },
     "source": [
      "***\n",
      "Transformar en presentacion\n",
      "\n",
      "Hem hagut d'instal\u00b7lar: \"apt-get install libghc-pandoc-dev\"\n",
      "Conversi\u00f3 a trav\u00e9s de Pandoc a tot els formats: http://johnmacfarlane.net/pandoc/installing.html\n",
      "Tamb\u00e9 hem instal\u00b7lat latex per altres transformacions: apt-get install texlive\n",
      "Al final hem instalat pandoc a trav\u00e9s del gentre de programari d'ubuntu : Pandoc (General markup converter)\n",
      "\n",
      "Pandoc understands a number of useful markdown syntax extensions, including document metadata (title, author, date); footnotes; tables; definition lists; superscript and subscript; strikeout; enhanced ordered lists (start number and numbering style are significant); running example lists; delimited code blocks with syntax highlighting; smart quotes, dashes, and ellipses; markdown inside HTML blocks; and inline LaTeX. If strict markdown compatibility is desired, all of these extensions can be turned off.\n",
      "\n",
      "***"
     ]
    },
    {
     "cell_type": "code",
     "collapsed": false,
     "input": [
      "!ipython nbconvert --to slides Presentacion_pycones14_NPV.ipynb --post serve\n",
      "#!ipython nbconvert --to slides Presentacion_pycones14_NPV.ipynb"
     ],
     "language": "python",
     "metadata": {
      "slideshow": {
       "slide_type": "skip"
      }
     },
     "outputs": [
      {
       "output_type": "stream",
       "stream": "stdout",
       "text": [
        "[NbConvertApp] Using existing profile dir: u'/home/nuria/.ipython/profile_default'\r\n",
        "[NbConvertApp] Converting notebook Presentacion_pycones14_NPV.ipynb to slides\r\n"
       ]
      },
      {
       "output_type": "stream",
       "stream": "stdout",
       "text": [
        "[NbConvertApp] Support files will be in Presentacion_pycones14_NPV_files/\r\n",
        "[NbConvertApp] Loaded template slides_reveal.tpl\r\n"
       ]
      },
      {
       "output_type": "stream",
       "stream": "stdout",
       "text": [
        "/usr/local/lib/python2.7/dist-packages/IPython/nbconvert/filters/markdown.py:78: UserWarning: Node.js 0.9.12 or later wasn't found.\r\n",
        "Nbconvert will try to use Pandoc instead.\r\n",
        "  \"Nbconvert will try to use Pandoc instead.\")\r\n",
        "/usr/local/lib/python2.7/dist-packages/IPython/nbconvert/utils/pandoc.py:63: RuntimeWarning: You are using an old version of pandoc (1.9.1)\r\n",
        "Recommended version is 1.12.1.\r\n",
        "Try updating.http://johnmacfarlane.net/pandoc/installing.html.\r\n",
        "Continuing with doubts...\r\n",
        "  check_pandoc_version()\r\n"
       ]
      },
      {
       "output_type": "stream",
       "stream": "stdout",
       "text": [
        "[NbConvertApp] Writing 209754 bytes to Presentacion_pycones14_NPV.slides.html\r\n",
        "[NbConvertApp] Serving local reveal.js\r\n",
        "Serving your slides at http://127.0.0.1:8000/Presentacion_pycones14_NPV.slides.html\r\n",
        "Use Control-C to stop this server\r\n"
       ]
      },
      {
       "output_type": "stream",
       "stream": "stdout",
       "text": [
        "WARNING:tornado.access:404 GET /custom.css (127.0.0.1) 0.59ms\r\n"
       ]
      },
      {
       "output_type": "stream",
       "stream": "stdout",
       "text": [
        "WARNING:tornado.access:404 GET /custom.css (127.0.0.1) 0.53ms\r\n"
       ]
      },
      {
       "output_type": "stream",
       "stream": "stdout",
       "text": [
        "WARNING:tornado.access:404 GET /reveal.js/plugin/notes/notes.js (127.0.0.1) 0.54ms\r\n"
       ]
      },
      {
       "output_type": "stream",
       "stream": "stdout",
       "text": [
        "^C\r\n",
        "Interrupted\r\n",
        "\r\n"
       ]
      }
     ],
     "prompt_number": 11
    },
    {
     "cell_type": "code",
     "collapsed": false,
     "input": [],
     "language": "python",
     "metadata": {
      "slideshow": {
       "slide_type": "skip"
      }
     },
     "outputs": []
    }
   ],
   "metadata": {}
  }
 ]
}